{
 "cells": [
  {
   "cell_type": "code",
   "execution_count": 73,
   "metadata": {},
   "outputs": [],
   "source": [
    "# Dependencies and Setup\n",
    "import pandas as pd\n",
    "import hvplot.pandas as hvplot\n",
    "import matplotlib.pyplot as plt \n",
    "\n",
    "import numpy as np  \n",
    "import requests \n",
    "import json \n",
    "\n",
    "from citipy import citipy\n",
    "from api_keys import yelp_api_key"
   ]
  },
  {
   "cell_type": "markdown",
   "metadata": {},
   "source": [
    "### Generate the NYC Borough Grocery Stores List by Using Yelp API"
   ]
  },
  {
   "cell_type": "code",
   "execution_count": 74,
   "metadata": {},
   "outputs": [],
   "source": [
    "api_key = yelp_api_key\n",
    "base_url = \"https://api.yelp.com/v3/businesses/search\"\n",
    "cities = [\"Manhattan\", \"Queens\", \"Brooklyn\", \"Bronx\", \"Staten Island\"]\n",
    "results_per_page = 20  # Number of results per API request\n",
    "all_eats_data = []\n",
    "for city in cities:\n",
    "    offset = 0  # Start with 0 offset\n",
    "    while True:\n",
    "        params = {\n",
    "            \"term\": \"restaurants\",\n",
    "            \"location\": city,\n",
    "            \"offset\": offset,  # Offset for pagination\n",
    "            \"limit\": results_per_page  # Number of results per page\n",
    "        }\n",
    "        headers = {\n",
    "            \"Authorization\": f\"Bearer {api_key}\"\n",
    "        }\n",
    "        response = requests.get(base_url, params=params, headers=headers)\n",
    "        eats_data = response.json()\n",
    "        # Process the data as needed\n",
    "        businesses = eats_data.get(\"businesses\", [])\n",
    "        if not businesses:\n",
    "            break  # No more businesses, exit the loop\n",
    "        for business in businesses:\n",
    "            data = {\n",
    "                \"City\": city,\n",
    "                \"Name\": business[\"name\"],\n",
    "                \"Address\": business[\"location\"][\"address1\"]\n",
    "            }\n",
    "            all_eats_data.append(data)\n",
    "        offset += results_per_page  # Increment offset for the next page\n",
    "# Create a DataFrame from the collected data\n",
    "eats_data_df = pd.DataFrame(all_eats_data)\n",
    "# Save the DataFrame to a CSV file\n",
    "eats_data_df.to_csv(\"nyc_eats.csv\", index=False)"
   ]
  },
  {
   "cell_type": "code",
   "execution_count": 75,
   "metadata": {},
   "outputs": [],
   "source": [
    "# Read the groceries.csv file and create a groceries DataFrame\n",
    "groceries_df = pd.read_csv('../Resources/groceries.csv')\n",
    "ev_df = pd.read_csv('../Resources/evcs.csv')\n",
    "bars_df = pd.read_csv('../Resources/nyc_bars.csv')  "
   ]
  },
  {
   "cell_type": "code",
   "execution_count": 76,
   "metadata": {},
   "outputs": [
    {
     "data": {
      "text/html": [
       "<div>\n",
       "<style scoped>\n",
       "    .dataframe tbody tr th:only-of-type {\n",
       "        vertical-align: middle;\n",
       "    }\n",
       "\n",
       "    .dataframe tbody tr th {\n",
       "        vertical-align: top;\n",
       "    }\n",
       "\n",
       "    .dataframe thead th {\n",
       "        text-align: right;\n",
       "    }\n",
       "</style>\n",
       "<table border=\"1\" class=\"dataframe\">\n",
       "  <thead>\n",
       "    <tr style=\"text-align: right;\">\n",
       "      <th></th>\n",
       "      <th>City</th>\n",
       "      <th>Station Name</th>\n",
       "      <th>Street Address</th>\n",
       "      <th>Type</th>\n",
       "    </tr>\n",
       "  </thead>\n",
       "  <tbody>\n",
       "    <tr>\n",
       "      <th>0</th>\n",
       "      <td>Fair Haven</td>\n",
       "      <td>Village of Fairhaven</td>\n",
       "      <td>14523 Cayuga St</td>\n",
       "      <td>EVCS</td>\n",
       "    </tr>\n",
       "    <tr>\n",
       "      <th>1</th>\n",
       "      <td>Hudson</td>\n",
       "      <td>The Wick Hotel - Tesla Destination</td>\n",
       "      <td>41 Cross St</td>\n",
       "      <td>EVCS</td>\n",
       "    </tr>\n",
       "    <tr>\n",
       "      <th>2</th>\n",
       "      <td>Tupper Lake</td>\n",
       "      <td>Faust Motel - Tesla Destination</td>\n",
       "      <td>151 Main St</td>\n",
       "      <td>EVCS</td>\n",
       "    </tr>\n",
       "    <tr>\n",
       "      <th>3</th>\n",
       "      <td>Delmar</td>\n",
       "      <td>LIVEWELL GROUP 708 CATLYN CT</td>\n",
       "      <td>708 Catlyn Ct</td>\n",
       "      <td>EVCS</td>\n",
       "    </tr>\n",
       "    <tr>\n",
       "      <th>4</th>\n",
       "      <td>Midland Beach</td>\n",
       "      <td>NYC FLEET DPRMBLOT8_1_L3</td>\n",
       "      <td>920 Father Capodanno Blvd</td>\n",
       "      <td>EVCS</td>\n",
       "    </tr>\n",
       "  </tbody>\n",
       "</table>\n",
       "</div>"
      ],
      "text/plain": [
       "            City                        Station Name  \\\n",
       "0     Fair Haven                Village of Fairhaven   \n",
       "1         Hudson  The Wick Hotel - Tesla Destination   \n",
       "2    Tupper Lake     Faust Motel - Tesla Destination   \n",
       "3         Delmar        LIVEWELL GROUP 708 CATLYN CT   \n",
       "4  Midland Beach            NYC FLEET DPRMBLOT8_1_L3   \n",
       "\n",
       "              Street Address  Type  \n",
       "0            14523 Cayuga St  EVCS  \n",
       "1                41 Cross St  EVCS  \n",
       "2                151 Main St  EVCS  \n",
       "3              708 Catlyn Ct  EVCS  \n",
       "4  920 Father Capodanno Blvd  EVCS  "
      ]
     },
     "execution_count": 76,
     "metadata": {},
     "output_type": "execute_result"
    }
   ],
   "source": [
    "\n",
    "ev_df['Type'] = 'EVCS'\n",
    "clean_ev_df = ev_df[['City', 'Station Name', 'Street Address', 'Type']]\n",
    "clean_ev_df.head()"
   ]
  },
  {
   "cell_type": "code",
   "execution_count": 77,
   "metadata": {},
   "outputs": [
    {
     "data": {
      "text/plain": [
       "Index(['City', 'Name', 'Address', 'Type'], dtype='object')"
      ]
     },
     "execution_count": 77,
     "metadata": {},
     "output_type": "execute_result"
    }
   ],
   "source": [
    "bars_df['Type'] = 'Bar'\n",
    "bars_df.columns"
   ]
  },
  {
   "cell_type": "code",
   "execution_count": 78,
   "metadata": {},
   "outputs": [
    {
     "data": {
      "text/plain": [
       "Index(['City', 'Name', 'Address', 'Type'], dtype='object')"
      ]
     },
     "execution_count": 78,
     "metadata": {},
     "output_type": "execute_result"
    }
   ],
   "source": [
    "groceries_df[\"Type\"]= \"Grocery\"\n",
    "groceries_df.columns"
   ]
  },
  {
   "cell_type": "code",
   "execution_count": 79,
   "metadata": {},
   "outputs": [
    {
     "name": "stdout",
     "output_type": "stream",
     "text": [
      "            City     Type  count\n",
      "0          Bronx  Grocery   1000\n",
      "1       Brooklyn  Grocery   1000\n",
      "2      Manhattan  Grocery   1000\n",
      "3         Queens  Grocery   1000\n",
      "4  Staten Island  Grocery   1000\n"
     ]
    }
   ],
   "source": [
    "\n",
    "# Group by 'Borough' and count the types of groceries\n",
    "boro_counts = groceries_df.groupby('City')['Type'].value_counts().reset_index(name='count')\n",
    "\n",
    "# Sort the DataFrame based on 'count' in descending order\n",
    "boro_counts_sorted = boro_counts.sort_values(by=['City', 'count'], ascending=[True, False])\n",
    "\n",
    "# Print the sorted DataFrame\n",
    "print(boro_counts_sorted)\n"
   ]
  },
  {
   "cell_type": "code",
   "execution_count": 80,
   "metadata": {},
   "outputs": [
    {
     "name": "stdout",
     "output_type": "stream",
     "text": [
      "        City  Type  count\n",
      "0      Bronx  EVCS      1\n",
      "1   Brooklyn  EVCS      1\n",
      "2  Manhattan  EVCS      1\n",
      "3     Queens  EVCS      1\n"
     ]
    }
   ],
   "source": [
    "\n",
    "# Sample data for demonstration\n",
    "data = {\n",
    "    'City': ['Manhattan', 'Queens', 'Brooklyn', 'Bronx', 'Staten Island', ],\n",
    "    'Type': ['EVCS', 'EVCS', 'EVCS', 'EVCS', 'EVCS', ],\n",
    "}\n",
    "\n",
    "ev_df = pd.DataFrame(data)\n",
    "\n",
    "# List of cities you want to include\n",
    "selected_cities = ['Manhattan', 'Queens', 'Brooklyn', 'Bronx']\n",
    "\n",
    "# Filter the DataFrame to include only the selected cities\n",
    "filtered_df = ev_df[ev_df['City'].isin(selected_cities)]\n",
    "\n",
    "# Group by 'City' and count the types of groceries\n",
    "boro_counts = filtered_df.groupby('City')['Type'].value_counts().reset_index(name='count')\n",
    "\n",
    "# Sort the DataFrame based on 'City' and 'count' in descending order\n",
    "boro_counts_sorted = boro_counts.sort_values(by=['City', 'count'], ascending=[True, False])\n",
    "\n",
    "# Print the sorted DataFrame\n",
    "print(boro_counts_sorted)\n"
   ]
  }
 ],
 "metadata": {
  "kernelspec": {
   "display_name": "yourenvname",
   "language": "python",
   "name": "python3"
  },
  "language_info": {
   "codemirror_mode": {
    "name": "ipython",
    "version": 3
   },
   "file_extension": ".py",
   "mimetype": "text/x-python",
   "name": "python",
   "nbconvert_exporter": "python",
   "pygments_lexer": "ipython3",
   "version": "3.10.12"
  },
  "orig_nbformat": 4
 },
 "nbformat": 4,
 "nbformat_minor": 2
}
